{
 "cells": [
  {
   "cell_type": "code",
   "execution_count": 1,
   "metadata": {
    "execution": {
     "iopub.execute_input": "2023-11-12T00:16:34.669486Z",
     "iopub.status.busy": "2023-11-12T00:16:34.669215Z",
     "iopub.status.idle": "2023-11-12T00:16:34.946845Z",
     "shell.execute_reply": "2023-11-12T00:16:34.945883Z"
    }
   },
   "outputs": [],
   "source": [
    "import pandas as pd\n"
   ]
  },
  {
   "cell_type": "markdown",
   "metadata": {},
   "source": [
    "TODO\n"
   ]
  },
  {
   "cell_type": "code",
   "execution_count": 2,
   "metadata": {
    "execution": {
     "iopub.execute_input": "2023-11-12T00:16:34.953260Z",
     "iopub.status.busy": "2023-11-12T00:16:34.952637Z",
     "iopub.status.idle": "2023-11-12T00:16:34.956167Z",
     "shell.execute_reply": "2023-11-12T00:16:34.955384Z"
    }
   },
   "outputs": [],
   "source": [
    "#TODO\n"
   ]
  }
 ],
 "metadata": {
  "kernelspec": {
   "display_name": "Python 3",
   "language": "python",
   "name": "python3"
  },
  "language_info": {
   "codemirror_mode": {
    "name": "ipython",
    "version": 3
   },
   "file_extension": ".py",
   "mimetype": "text/x-python",
   "name": "python",
   "nbconvert_exporter": "python",
   "pygments_lexer": "ipython3",
   "version": "3.8.10"
  }
 },
 "nbformat": 4,
 "nbformat_minor": 4
}
