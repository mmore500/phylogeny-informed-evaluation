{
 "cells": [
  {
   "cell_type": "code",
   "execution_count": 1,
   "metadata": {
    "execution": {
     "iopub.execute_input": "2023-10-22T00:16:09.253601Z",
     "iopub.status.busy": "2023-10-22T00:16:09.253109Z",
     "iopub.status.idle": "2023-10-22T00:16:09.536106Z",
     "shell.execute_reply": "2023-10-22T00:16:09.535264Z"
    }
   },
   "outputs": [],
   "source": [
    "import pandas as pd\n"
   ]
  },
  {
   "cell_type": "markdown",
   "metadata": {},
   "source": [
    "TODO\n"
   ]
  },
  {
   "cell_type": "code",
   "execution_count": 2,
   "metadata": {
    "execution": {
     "iopub.execute_input": "2023-10-22T00:16:09.540638Z",
     "iopub.status.busy": "2023-10-22T00:16:09.540268Z",
     "iopub.status.idle": "2023-10-22T00:16:09.553991Z",
     "shell.execute_reply": "2023-10-22T00:16:09.553247Z"
    }
   },
   "outputs": [],
   "source": [
    "#TODO\n"
   ]
  }
 ],
 "metadata": {
  "kernelspec": {
   "display_name": "Python 3",
   "language": "python",
   "name": "python3"
  },
  "language_info": {
   "codemirror_mode": {
    "name": "ipython",
    "version": 3
   },
   "file_extension": ".py",
   "mimetype": "text/x-python",
   "name": "python",
   "nbconvert_exporter": "python",
   "pygments_lexer": "ipython3",
   "version": "3.8.10"
  }
 },
 "nbformat": 4,
 "nbformat_minor": 4
}
