{
 "cells": [
  {
   "cell_type": "code",
   "execution_count": 1,
   "metadata": {
    "execution": {
     "iopub.execute_input": "2024-12-01T00:24:35.326545Z",
     "iopub.status.busy": "2024-12-01T00:24:35.326071Z",
     "iopub.status.idle": "2024-12-01T00:24:35.535685Z",
     "shell.execute_reply": "2024-12-01T00:24:35.535168Z"
    }
   },
   "outputs": [],
   "source": [
    "import pandas as pd\n"
   ]
  },
  {
   "cell_type": "markdown",
   "metadata": {},
   "source": [
    "TODO\n"
   ]
  },
  {
   "cell_type": "code",
   "execution_count": 2,
   "metadata": {
    "execution": {
     "iopub.execute_input": "2024-12-01T00:24:35.538049Z",
     "iopub.status.busy": "2024-12-01T00:24:35.537703Z",
     "iopub.status.idle": "2024-12-01T00:24:35.540428Z",
     "shell.execute_reply": "2024-12-01T00:24:35.539969Z"
    }
   },
   "outputs": [],
   "source": [
    "#TODO\n"
   ]
  }
 ],
 "metadata": {
  "kernelspec": {
   "display_name": "Python 3",
   "language": "python",
   "name": "python3"
  },
  "language_info": {
   "codemirror_mode": {
    "name": "ipython",
    "version": 3
   },
   "file_extension": ".py",
   "mimetype": "text/x-python",
   "name": "python",
   "nbconvert_exporter": "python",
   "pygments_lexer": "ipython3",
   "version": "3.8.10"
  }
 },
 "nbformat": 4,
 "nbformat_minor": 4
}
