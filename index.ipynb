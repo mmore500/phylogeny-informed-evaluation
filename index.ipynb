{
 "cells": [
  {
   "cell_type": "code",
   "execution_count": 1,
   "metadata": {
    "execution": {
     "iopub.execute_input": "2024-05-19T00:16:55.753827Z",
     "iopub.status.busy": "2024-05-19T00:16:55.753440Z",
     "iopub.status.idle": "2024-05-19T00:16:55.946526Z",
     "shell.execute_reply": "2024-05-19T00:16:55.946030Z"
    }
   },
   "outputs": [],
   "source": [
    "import pandas as pd\n"
   ]
  },
  {
   "cell_type": "markdown",
   "metadata": {},
   "source": [
    "TODO\n"
   ]
  },
  {
   "cell_type": "code",
   "execution_count": 2,
   "metadata": {
    "execution": {
     "iopub.execute_input": "2024-05-19T00:16:55.949264Z",
     "iopub.status.busy": "2024-05-19T00:16:55.948881Z",
     "iopub.status.idle": "2024-05-19T00:16:55.951450Z",
     "shell.execute_reply": "2024-05-19T00:16:55.950992Z"
    }
   },
   "outputs": [],
   "source": [
    "#TODO\n"
   ]
  }
 ],
 "metadata": {
  "kernelspec": {
   "display_name": "Python 3",
   "language": "python",
   "name": "python3"
  },
  "language_info": {
   "codemirror_mode": {
    "name": "ipython",
    "version": 3
   },
   "file_extension": ".py",
   "mimetype": "text/x-python",
   "name": "python",
   "nbconvert_exporter": "python",
   "pygments_lexer": "ipython3",
   "version": "3.8.10"
  }
 },
 "nbformat": 4,
 "nbformat_minor": 4
}
