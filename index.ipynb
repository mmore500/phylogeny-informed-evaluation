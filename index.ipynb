{
 "cells": [
  {
   "cell_type": "code",
   "execution_count": 1,
   "metadata": {
    "execution": {
     "iopub.execute_input": "2023-12-31T00:17:03.755468Z",
     "iopub.status.busy": "2023-12-31T00:17:03.755285Z",
     "iopub.status.idle": "2023-12-31T00:17:03.973140Z",
     "shell.execute_reply": "2023-12-31T00:17:03.972630Z"
    }
   },
   "outputs": [],
   "source": [
    "import pandas as pd\n"
   ]
  },
  {
   "cell_type": "markdown",
   "metadata": {},
   "source": [
    "TODO\n"
   ]
  },
  {
   "cell_type": "code",
   "execution_count": 2,
   "metadata": {
    "execution": {
     "iopub.execute_input": "2023-12-31T00:17:03.975818Z",
     "iopub.status.busy": "2023-12-31T00:17:03.975529Z",
     "iopub.status.idle": "2023-12-31T00:17:03.978239Z",
     "shell.execute_reply": "2023-12-31T00:17:03.977745Z"
    }
   },
   "outputs": [],
   "source": [
    "#TODO\n"
   ]
  }
 ],
 "metadata": {
  "kernelspec": {
   "display_name": "Python 3",
   "language": "python",
   "name": "python3"
  },
  "language_info": {
   "codemirror_mode": {
    "name": "ipython",
    "version": 3
   },
   "file_extension": ".py",
   "mimetype": "text/x-python",
   "name": "python",
   "nbconvert_exporter": "python",
   "pygments_lexer": "ipython3",
   "version": "3.8.10"
  }
 },
 "nbformat": 4,
 "nbformat_minor": 4
}
