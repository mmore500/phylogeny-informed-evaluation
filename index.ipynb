{
 "cells": [
  {
   "cell_type": "code",
   "execution_count": 1,
   "metadata": {
    "execution": {
     "iopub.execute_input": "2023-04-30T00:39:19.442987Z",
     "iopub.status.busy": "2023-04-30T00:39:19.442507Z",
     "iopub.status.idle": "2023-04-30T00:39:19.670529Z",
     "shell.execute_reply": "2023-04-30T00:39:19.669907Z"
    }
   },
   "outputs": [],
   "source": [
    "import pandas as pd\n"
   ]
  },
  {
   "cell_type": "markdown",
   "metadata": {},
   "source": [
    "TODO\n"
   ]
  },
  {
   "cell_type": "code",
   "execution_count": 2,
   "metadata": {
    "execution": {
     "iopub.execute_input": "2023-04-30T00:39:19.673708Z",
     "iopub.status.busy": "2023-04-30T00:39:19.673319Z",
     "iopub.status.idle": "2023-04-30T00:39:19.677020Z",
     "shell.execute_reply": "2023-04-30T00:39:19.676449Z"
    }
   },
   "outputs": [],
   "source": [
    "#TODO\n"
   ]
  }
 ],
 "metadata": {
  "kernelspec": {
   "display_name": "Python 3",
   "language": "python",
   "name": "python3"
  },
  "language_info": {
   "codemirror_mode": {
    "name": "ipython",
    "version": 3
   },
   "file_extension": ".py",
   "mimetype": "text/x-python",
   "name": "python",
   "nbconvert_exporter": "python",
   "pygments_lexer": "ipython3",
   "version": "3.8.10"
  }
 },
 "nbformat": 4,
 "nbformat_minor": 4
}
