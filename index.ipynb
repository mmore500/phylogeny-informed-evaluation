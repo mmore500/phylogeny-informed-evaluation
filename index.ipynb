{
 "cells": [
  {
   "cell_type": "code",
   "execution_count": 1,
   "metadata": {
    "execution": {
     "iopub.execute_input": "2024-12-22T00:21:34.904786Z",
     "iopub.status.busy": "2024-12-22T00:21:34.904377Z",
     "iopub.status.idle": "2024-12-22T00:21:35.131930Z",
     "shell.execute_reply": "2024-12-22T00:21:35.131420Z"
    }
   },
   "outputs": [],
   "source": [
    "import pandas as pd\n"
   ]
  },
  {
   "cell_type": "markdown",
   "metadata": {},
   "source": [
    "TODO\n"
   ]
  },
  {
   "cell_type": "code",
   "execution_count": 2,
   "metadata": {
    "execution": {
     "iopub.execute_input": "2024-12-22T00:21:35.134313Z",
     "iopub.status.busy": "2024-12-22T00:21:35.133929Z",
     "iopub.status.idle": "2024-12-22T00:21:35.136851Z",
     "shell.execute_reply": "2024-12-22T00:21:35.136397Z"
    }
   },
   "outputs": [],
   "source": [
    "#TODO\n"
   ]
  }
 ],
 "metadata": {
  "kernelspec": {
   "display_name": "Python 3",
   "language": "python",
   "name": "python3"
  },
  "language_info": {
   "codemirror_mode": {
    "name": "ipython",
    "version": 3
   },
   "file_extension": ".py",
   "mimetype": "text/x-python",
   "name": "python",
   "nbconvert_exporter": "python",
   "pygments_lexer": "ipython3",
   "version": "3.8.10"
  }
 },
 "nbformat": 4,
 "nbformat_minor": 4
}
