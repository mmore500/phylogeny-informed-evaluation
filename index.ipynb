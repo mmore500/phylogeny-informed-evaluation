{
 "cells": [
  {
   "cell_type": "code",
   "execution_count": 1,
   "metadata": {
    "execution": {
     "iopub.execute_input": "2024-06-02T00:17:20.784837Z",
     "iopub.status.busy": "2024-06-02T00:17:20.784654Z",
     "iopub.status.idle": "2024-06-02T00:17:20.986285Z",
     "shell.execute_reply": "2024-06-02T00:17:20.985745Z"
    }
   },
   "outputs": [],
   "source": [
    "import pandas as pd\n"
   ]
  },
  {
   "cell_type": "markdown",
   "metadata": {},
   "source": [
    "TODO\n"
   ]
  },
  {
   "cell_type": "code",
   "execution_count": 2,
   "metadata": {
    "execution": {
     "iopub.execute_input": "2024-06-02T00:17:20.989031Z",
     "iopub.status.busy": "2024-06-02T00:17:20.988739Z",
     "iopub.status.idle": "2024-06-02T00:17:20.991476Z",
     "shell.execute_reply": "2024-06-02T00:17:20.991012Z"
    }
   },
   "outputs": [],
   "source": [
    "#TODO\n"
   ]
  }
 ],
 "metadata": {
  "kernelspec": {
   "display_name": "Python 3",
   "language": "python",
   "name": "python3"
  },
  "language_info": {
   "codemirror_mode": {
    "name": "ipython",
    "version": 3
   },
   "file_extension": ".py",
   "mimetype": "text/x-python",
   "name": "python",
   "nbconvert_exporter": "python",
   "pygments_lexer": "ipython3",
   "version": "3.8.10"
  }
 },
 "nbformat": 4,
 "nbformat_minor": 4
}
