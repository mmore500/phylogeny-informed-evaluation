{
 "cells": [
  {
   "cell_type": "code",
   "execution_count": 1,
   "metadata": {
    "execution": {
     "iopub.execute_input": "2023-10-08T00:15:57.779652Z",
     "iopub.status.busy": "2023-10-08T00:15:57.779242Z",
     "iopub.status.idle": "2023-10-08T00:15:58.033339Z",
     "shell.execute_reply": "2023-10-08T00:15:58.032572Z"
    }
   },
   "outputs": [],
   "source": [
    "import pandas as pd\n"
   ]
  },
  {
   "cell_type": "markdown",
   "metadata": {},
   "source": [
    "TODO\n"
   ]
  },
  {
   "cell_type": "code",
   "execution_count": 2,
   "metadata": {
    "execution": {
     "iopub.execute_input": "2023-10-08T00:15:58.037574Z",
     "iopub.status.busy": "2023-10-08T00:15:58.037251Z",
     "iopub.status.idle": "2023-10-08T00:15:58.042078Z",
     "shell.execute_reply": "2023-10-08T00:15:58.041447Z"
    }
   },
   "outputs": [],
   "source": [
    "#TODO\n"
   ]
  }
 ],
 "metadata": {
  "kernelspec": {
   "display_name": "Python 3",
   "language": "python",
   "name": "python3"
  },
  "language_info": {
   "codemirror_mode": {
    "name": "ipython",
    "version": 3
   },
   "file_extension": ".py",
   "mimetype": "text/x-python",
   "name": "python",
   "nbconvert_exporter": "python",
   "pygments_lexer": "ipython3",
   "version": "3.8.10"
  }
 },
 "nbformat": 4,
 "nbformat_minor": 4
}
