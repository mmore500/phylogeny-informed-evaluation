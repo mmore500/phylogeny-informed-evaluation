{
 "cells": [
  {
   "cell_type": "code",
   "execution_count": 1,
   "metadata": {
    "execution": {
     "iopub.execute_input": "2023-11-19T00:16:38.317485Z",
     "iopub.status.busy": "2023-11-19T00:16:38.317316Z",
     "iopub.status.idle": "2023-11-19T00:16:38.512138Z",
     "shell.execute_reply": "2023-11-19T00:16:38.511607Z"
    }
   },
   "outputs": [],
   "source": [
    "import pandas as pd\n"
   ]
  },
  {
   "cell_type": "markdown",
   "metadata": {},
   "source": [
    "TODO\n"
   ]
  },
  {
   "cell_type": "code",
   "execution_count": 2,
   "metadata": {
    "execution": {
     "iopub.execute_input": "2023-11-19T00:16:38.514951Z",
     "iopub.status.busy": "2023-11-19T00:16:38.514616Z",
     "iopub.status.idle": "2023-11-19T00:16:38.517360Z",
     "shell.execute_reply": "2023-11-19T00:16:38.516908Z"
    }
   },
   "outputs": [],
   "source": [
    "#TODO\n"
   ]
  }
 ],
 "metadata": {
  "kernelspec": {
   "display_name": "Python 3",
   "language": "python",
   "name": "python3"
  },
  "language_info": {
   "codemirror_mode": {
    "name": "ipython",
    "version": 3
   },
   "file_extension": ".py",
   "mimetype": "text/x-python",
   "name": "python",
   "nbconvert_exporter": "python",
   "pygments_lexer": "ipython3",
   "version": "3.8.10"
  }
 },
 "nbformat": 4,
 "nbformat_minor": 4
}
