{
 "cells": [
  {
   "cell_type": "code",
   "execution_count": 1,
   "metadata": {
    "execution": {
     "iopub.execute_input": "2024-10-20T00:21:17.999542Z",
     "iopub.status.busy": "2024-10-20T00:21:17.999361Z",
     "iopub.status.idle": "2024-10-20T00:21:18.218458Z",
     "shell.execute_reply": "2024-10-20T00:21:18.217796Z"
    }
   },
   "outputs": [],
   "source": [
    "import pandas as pd\n"
   ]
  },
  {
   "cell_type": "markdown",
   "metadata": {},
   "source": [
    "TODO\n"
   ]
  },
  {
   "cell_type": "code",
   "execution_count": 2,
   "metadata": {
    "execution": {
     "iopub.execute_input": "2024-10-20T00:21:18.221093Z",
     "iopub.status.busy": "2024-10-20T00:21:18.220630Z",
     "iopub.status.idle": "2024-10-20T00:21:18.223269Z",
     "shell.execute_reply": "2024-10-20T00:21:18.222804Z"
    }
   },
   "outputs": [],
   "source": [
    "#TODO\n"
   ]
  }
 ],
 "metadata": {
  "kernelspec": {
   "display_name": "Python 3",
   "language": "python",
   "name": "python3"
  },
  "language_info": {
   "codemirror_mode": {
    "name": "ipython",
    "version": 3
   },
   "file_extension": ".py",
   "mimetype": "text/x-python",
   "name": "python",
   "nbconvert_exporter": "python",
   "pygments_lexer": "ipython3",
   "version": "3.8.10"
  }
 },
 "nbformat": 4,
 "nbformat_minor": 4
}
