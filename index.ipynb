{
 "cells": [
  {
   "cell_type": "code",
   "execution_count": 1,
   "metadata": {
    "execution": {
     "iopub.execute_input": "2025-01-05T00:21:32.562625Z",
     "iopub.status.busy": "2025-01-05T00:21:32.562446Z",
     "iopub.status.idle": "2025-01-05T00:21:32.793259Z",
     "shell.execute_reply": "2025-01-05T00:21:32.792752Z"
    }
   },
   "outputs": [],
   "source": [
    "import pandas as pd\n"
   ]
  },
  {
   "cell_type": "markdown",
   "metadata": {},
   "source": [
    "TODO\n"
   ]
  },
  {
   "cell_type": "code",
   "execution_count": 2,
   "metadata": {
    "execution": {
     "iopub.execute_input": "2025-01-05T00:21:32.795560Z",
     "iopub.status.busy": "2025-01-05T00:21:32.795235Z",
     "iopub.status.idle": "2025-01-05T00:21:32.797704Z",
     "shell.execute_reply": "2025-01-05T00:21:32.797261Z"
    }
   },
   "outputs": [],
   "source": [
    "#TODO\n"
   ]
  }
 ],
 "metadata": {
  "kernelspec": {
   "display_name": "Python 3",
   "language": "python",
   "name": "python3"
  },
  "language_info": {
   "codemirror_mode": {
    "name": "ipython",
    "version": 3
   },
   "file_extension": ".py",
   "mimetype": "text/x-python",
   "name": "python",
   "nbconvert_exporter": "python",
   "pygments_lexer": "ipython3",
   "version": "3.8.10"
  }
 },
 "nbformat": 4,
 "nbformat_minor": 4
}
