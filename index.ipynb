{
 "cells": [
  {
   "cell_type": "code",
   "execution_count": 1,
   "metadata": {
    "execution": {
     "iopub.execute_input": "2024-09-29T00:20:59.802777Z",
     "iopub.status.busy": "2024-09-29T00:20:59.802599Z",
     "iopub.status.idle": "2024-09-29T00:21:00.007861Z",
     "shell.execute_reply": "2024-09-29T00:21:00.007189Z"
    }
   },
   "outputs": [],
   "source": [
    "import pandas as pd\n"
   ]
  },
  {
   "cell_type": "markdown",
   "metadata": {},
   "source": [
    "TODO\n"
   ]
  },
  {
   "cell_type": "code",
   "execution_count": 2,
   "metadata": {
    "execution": {
     "iopub.execute_input": "2024-09-29T00:21:00.010339Z",
     "iopub.status.busy": "2024-09-29T00:21:00.009939Z",
     "iopub.status.idle": "2024-09-29T00:21:00.012680Z",
     "shell.execute_reply": "2024-09-29T00:21:00.012116Z"
    }
   },
   "outputs": [],
   "source": [
    "#TODO\n"
   ]
  }
 ],
 "metadata": {
  "kernelspec": {
   "display_name": "Python 3",
   "language": "python",
   "name": "python3"
  },
  "language_info": {
   "codemirror_mode": {
    "name": "ipython",
    "version": 3
   },
   "file_extension": ".py",
   "mimetype": "text/x-python",
   "name": "python",
   "nbconvert_exporter": "python",
   "pygments_lexer": "ipython3",
   "version": "3.8.10"
  }
 },
 "nbformat": 4,
 "nbformat_minor": 4
}
