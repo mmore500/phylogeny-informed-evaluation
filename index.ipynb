{
 "cells": [
  {
   "cell_type": "code",
   "execution_count": 1,
   "metadata": {
    "execution": {
     "iopub.execute_input": "2024-09-08T00:19:52.041172Z",
     "iopub.status.busy": "2024-09-08T00:19:52.040997Z",
     "iopub.status.idle": "2024-09-08T00:19:52.259508Z",
     "shell.execute_reply": "2024-09-08T00:19:52.258912Z"
    }
   },
   "outputs": [],
   "source": [
    "import pandas as pd\n"
   ]
  },
  {
   "cell_type": "markdown",
   "metadata": {},
   "source": [
    "TODO\n"
   ]
  },
  {
   "cell_type": "code",
   "execution_count": 2,
   "metadata": {
    "execution": {
     "iopub.execute_input": "2024-09-08T00:19:52.262628Z",
     "iopub.status.busy": "2024-09-08T00:19:52.262073Z",
     "iopub.status.idle": "2024-09-08T00:19:52.264883Z",
     "shell.execute_reply": "2024-09-08T00:19:52.264369Z"
    }
   },
   "outputs": [],
   "source": [
    "#TODO\n"
   ]
  }
 ],
 "metadata": {
  "kernelspec": {
   "display_name": "Python 3",
   "language": "python",
   "name": "python3"
  },
  "language_info": {
   "codemirror_mode": {
    "name": "ipython",
    "version": 3
   },
   "file_extension": ".py",
   "mimetype": "text/x-python",
   "name": "python",
   "nbconvert_exporter": "python",
   "pygments_lexer": "ipython3",
   "version": "3.8.10"
  }
 },
 "nbformat": 4,
 "nbformat_minor": 4
}
