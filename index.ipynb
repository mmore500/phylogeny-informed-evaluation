{
 "cells": [
  {
   "cell_type": "code",
   "execution_count": 1,
   "metadata": {
    "execution": {
     "iopub.execute_input": "2023-04-30T02:29:56.970804Z",
     "iopub.status.busy": "2023-04-30T02:29:56.970349Z",
     "iopub.status.idle": "2023-04-30T02:29:57.211476Z",
     "shell.execute_reply": "2023-04-30T02:29:57.210821Z"
    }
   },
   "outputs": [],
   "source": [
    "import pandas as pd\n"
   ]
  },
  {
   "cell_type": "markdown",
   "metadata": {},
   "source": [
    "TODO\n"
   ]
  },
  {
   "cell_type": "code",
   "execution_count": 2,
   "metadata": {
    "execution": {
     "iopub.execute_input": "2023-04-30T02:29:57.215122Z",
     "iopub.status.busy": "2023-04-30T02:29:57.214694Z",
     "iopub.status.idle": "2023-04-30T02:29:57.218995Z",
     "shell.execute_reply": "2023-04-30T02:29:57.218422Z"
    }
   },
   "outputs": [],
   "source": [
    "#TODO\n"
   ]
  }
 ],
 "metadata": {
  "kernelspec": {
   "display_name": "Python 3",
   "language": "python",
   "name": "python3"
  },
  "language_info": {
   "codemirror_mode": {
    "name": "ipython",
    "version": 3
   },
   "file_extension": ".py",
   "mimetype": "text/x-python",
   "name": "python",
   "nbconvert_exporter": "python",
   "pygments_lexer": "ipython3",
   "version": "3.8.10"
  }
 },
 "nbformat": 4,
 "nbformat_minor": 4
}
