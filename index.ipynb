{
 "cells": [
  {
   "cell_type": "code",
   "execution_count": 1,
   "metadata": {
    "execution": {
     "iopub.execute_input": "2024-11-10T00:20:36.350699Z",
     "iopub.status.busy": "2024-11-10T00:20:36.350513Z",
     "iopub.status.idle": "2024-11-10T00:20:36.565353Z",
     "shell.execute_reply": "2024-11-10T00:20:36.564706Z"
    }
   },
   "outputs": [],
   "source": [
    "import pandas as pd\n"
   ]
  },
  {
   "cell_type": "markdown",
   "metadata": {},
   "source": [
    "TODO\n"
   ]
  },
  {
   "cell_type": "code",
   "execution_count": 2,
   "metadata": {
    "execution": {
     "iopub.execute_input": "2024-11-10T00:20:36.567949Z",
     "iopub.status.busy": "2024-11-10T00:20:36.567457Z",
     "iopub.status.idle": "2024-11-10T00:20:36.570261Z",
     "shell.execute_reply": "2024-11-10T00:20:36.569705Z"
    }
   },
   "outputs": [],
   "source": [
    "#TODO\n"
   ]
  }
 ],
 "metadata": {
  "kernelspec": {
   "display_name": "Python 3",
   "language": "python",
   "name": "python3"
  },
  "language_info": {
   "codemirror_mode": {
    "name": "ipython",
    "version": 3
   },
   "file_extension": ".py",
   "mimetype": "text/x-python",
   "name": "python",
   "nbconvert_exporter": "python",
   "pygments_lexer": "ipython3",
   "version": "3.8.10"
  }
 },
 "nbformat": 4,
 "nbformat_minor": 4
}
