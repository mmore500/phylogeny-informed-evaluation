{
 "cells": [
  {
   "cell_type": "code",
   "execution_count": 1,
   "metadata": {
    "execution": {
     "iopub.execute_input": "2024-12-29T00:21:23.694698Z",
     "iopub.status.busy": "2024-12-29T00:21:23.694523Z",
     "iopub.status.idle": "2024-12-29T00:21:23.909778Z",
     "shell.execute_reply": "2024-12-29T00:21:23.909144Z"
    }
   },
   "outputs": [],
   "source": [
    "import pandas as pd\n"
   ]
  },
  {
   "cell_type": "markdown",
   "metadata": {},
   "source": [
    "TODO\n"
   ]
  },
  {
   "cell_type": "code",
   "execution_count": 2,
   "metadata": {
    "execution": {
     "iopub.execute_input": "2024-12-29T00:21:23.912510Z",
     "iopub.status.busy": "2024-12-29T00:21:23.911921Z",
     "iopub.status.idle": "2024-12-29T00:21:23.914902Z",
     "shell.execute_reply": "2024-12-29T00:21:23.914366Z"
    }
   },
   "outputs": [],
   "source": [
    "#TODO\n"
   ]
  }
 ],
 "metadata": {
  "kernelspec": {
   "display_name": "Python 3",
   "language": "python",
   "name": "python3"
  },
  "language_info": {
   "codemirror_mode": {
    "name": "ipython",
    "version": 3
   },
   "file_extension": ".py",
   "mimetype": "text/x-python",
   "name": "python",
   "nbconvert_exporter": "python",
   "pygments_lexer": "ipython3",
   "version": "3.8.10"
  }
 },
 "nbformat": 4,
 "nbformat_minor": 4
}
