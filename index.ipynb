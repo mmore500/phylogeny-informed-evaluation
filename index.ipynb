{
 "cells": [
  {
   "cell_type": "code",
   "execution_count": 1,
   "metadata": {
    "execution": {
     "iopub.execute_input": "2024-05-05T00:16:34.607984Z",
     "iopub.status.busy": "2024-05-05T00:16:34.607546Z",
     "iopub.status.idle": "2024-05-05T00:16:34.801512Z",
     "shell.execute_reply": "2024-05-05T00:16:34.801008Z"
    }
   },
   "outputs": [],
   "source": [
    "import pandas as pd\n"
   ]
  },
  {
   "cell_type": "markdown",
   "metadata": {},
   "source": [
    "TODO\n"
   ]
  },
  {
   "cell_type": "code",
   "execution_count": 2,
   "metadata": {
    "execution": {
     "iopub.execute_input": "2024-05-05T00:16:34.804332Z",
     "iopub.status.busy": "2024-05-05T00:16:34.803880Z",
     "iopub.status.idle": "2024-05-05T00:16:34.806670Z",
     "shell.execute_reply": "2024-05-05T00:16:34.806015Z"
    }
   },
   "outputs": [],
   "source": [
    "#TODO\n"
   ]
  }
 ],
 "metadata": {
  "kernelspec": {
   "display_name": "Python 3",
   "language": "python",
   "name": "python3"
  },
  "language_info": {
   "codemirror_mode": {
    "name": "ipython",
    "version": 3
   },
   "file_extension": ".py",
   "mimetype": "text/x-python",
   "name": "python",
   "nbconvert_exporter": "python",
   "pygments_lexer": "ipython3",
   "version": "3.8.10"
  }
 },
 "nbformat": 4,
 "nbformat_minor": 4
}
