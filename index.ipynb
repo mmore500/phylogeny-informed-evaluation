{
 "cells": [
  {
   "cell_type": "code",
   "execution_count": 1,
   "metadata": {
    "execution": {
     "iopub.execute_input": "2023-04-23T00:57:47.632047Z",
     "iopub.status.busy": "2023-04-23T00:57:47.631795Z",
     "iopub.status.idle": "2023-04-23T00:57:47.888968Z",
     "shell.execute_reply": "2023-04-23T00:57:47.888036Z"
    }
   },
   "outputs": [],
   "source": [
    "import pandas as pd\n"
   ]
  },
  {
   "cell_type": "markdown",
   "metadata": {},
   "source": [
    "TODO\n"
   ]
  },
  {
   "cell_type": "code",
   "execution_count": 2,
   "metadata": {
    "execution": {
     "iopub.execute_input": "2023-04-23T00:57:47.892562Z",
     "iopub.status.busy": "2023-04-23T00:57:47.892264Z",
     "iopub.status.idle": "2023-04-23T00:57:47.896937Z",
     "shell.execute_reply": "2023-04-23T00:57:47.896163Z"
    }
   },
   "outputs": [],
   "source": [
    "#TODO\n"
   ]
  }
 ],
 "metadata": {
  "kernelspec": {
   "display_name": "Python 3",
   "language": "python",
   "name": "python3"
  },
  "language_info": {
   "codemirror_mode": {
    "name": "ipython",
    "version": 3
   },
   "file_extension": ".py",
   "mimetype": "text/x-python",
   "name": "python",
   "nbconvert_exporter": "python",
   "pygments_lexer": "ipython3",
   "version": "3.8.10"
  }
 },
 "nbformat": 4,
 "nbformat_minor": 4
}
