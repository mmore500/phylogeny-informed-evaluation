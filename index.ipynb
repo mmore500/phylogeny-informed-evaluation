{
 "cells": [
  {
   "cell_type": "code",
   "execution_count": 1,
   "metadata": {
    "execution": {
     "iopub.execute_input": "2025-01-12T00:21:29.032526Z",
     "iopub.status.busy": "2025-01-12T00:21:29.032354Z",
     "iopub.status.idle": "2025-01-12T00:21:29.239380Z",
     "shell.execute_reply": "2025-01-12T00:21:29.238755Z"
    }
   },
   "outputs": [],
   "source": [
    "import pandas as pd\n"
   ]
  },
  {
   "cell_type": "markdown",
   "metadata": {},
   "source": [
    "TODO\n"
   ]
  },
  {
   "cell_type": "code",
   "execution_count": 2,
   "metadata": {
    "execution": {
     "iopub.execute_input": "2025-01-12T00:21:29.241796Z",
     "iopub.status.busy": "2025-01-12T00:21:29.241477Z",
     "iopub.status.idle": "2025-01-12T00:21:29.244334Z",
     "shell.execute_reply": "2025-01-12T00:21:29.243774Z"
    }
   },
   "outputs": [],
   "source": [
    "#TODO\n"
   ]
  }
 ],
 "metadata": {
  "kernelspec": {
   "display_name": "Python 3",
   "language": "python",
   "name": "python3"
  },
  "language_info": {
   "codemirror_mode": {
    "name": "ipython",
    "version": 3
   },
   "file_extension": ".py",
   "mimetype": "text/x-python",
   "name": "python",
   "nbconvert_exporter": "python",
   "pygments_lexer": "ipython3",
   "version": "3.8.10"
  }
 },
 "nbformat": 4,
 "nbformat_minor": 4
}
