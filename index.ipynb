{
 "cells": [
  {
   "cell_type": "code",
   "execution_count": 1,
   "metadata": {
    "execution": {
     "iopub.execute_input": "2024-08-18T00:18:25.226854Z",
     "iopub.status.busy": "2024-08-18T00:18:25.226464Z",
     "iopub.status.idle": "2024-08-18T00:18:25.436317Z",
     "shell.execute_reply": "2024-08-18T00:18:25.435736Z"
    }
   },
   "outputs": [],
   "source": [
    "import pandas as pd\n"
   ]
  },
  {
   "cell_type": "markdown",
   "metadata": {},
   "source": [
    "TODO\n"
   ]
  },
  {
   "cell_type": "code",
   "execution_count": 2,
   "metadata": {
    "execution": {
     "iopub.execute_input": "2024-08-18T00:18:25.439295Z",
     "iopub.status.busy": "2024-08-18T00:18:25.438835Z",
     "iopub.status.idle": "2024-08-18T00:18:25.441542Z",
     "shell.execute_reply": "2024-08-18T00:18:25.441026Z"
    }
   },
   "outputs": [],
   "source": [
    "#TODO\n"
   ]
  }
 ],
 "metadata": {
  "kernelspec": {
   "display_name": "Python 3",
   "language": "python",
   "name": "python3"
  },
  "language_info": {
   "codemirror_mode": {
    "name": "ipython",
    "version": 3
   },
   "file_extension": ".py",
   "mimetype": "text/x-python",
   "name": "python",
   "nbconvert_exporter": "python",
   "pygments_lexer": "ipython3",
   "version": "3.8.10"
  }
 },
 "nbformat": 4,
 "nbformat_minor": 4
}
